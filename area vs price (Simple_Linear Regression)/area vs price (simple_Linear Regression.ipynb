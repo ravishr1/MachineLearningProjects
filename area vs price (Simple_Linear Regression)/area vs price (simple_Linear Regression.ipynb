{
 "cells": [
  {
   "cell_type": "code",
   "execution_count": 1,
   "metadata": {},
   "outputs": [
    {
     "name": "stdout",
     "output_type": "stream",
     "text": [
      "Requirement already satisfied: seaborn in c:\\users\\akilesh\\anaconda3\\lib\\site-packages (0.8.1)\n",
      "Requirement already satisfied: numpy in c:\\users\\akilesh\\anaconda3\\lib\\site-packages (from seaborn) (1.14.3)\n",
      "Requirement already satisfied: scipy in c:\\users\\akilesh\\anaconda3\\lib\\site-packages (from seaborn) (1.1.0)\n",
      "Requirement already satisfied: matplotlib in c:\\users\\akilesh\\anaconda3\\lib\\site-packages (from seaborn) (2.2.2)\n",
      "Requirement already satisfied: pandas in c:\\users\\akilesh\\anaconda3\\lib\\site-packages (from seaborn) (0.23.0)\n",
      "Requirement already satisfied: cycler>=0.10 in c:\\users\\akilesh\\anaconda3\\lib\\site-packages (from matplotlib->seaborn) (0.10.0)\n",
      "Requirement already satisfied: pyparsing!=2.0.4,!=2.1.2,!=2.1.6,>=2.0.1 in c:\\users\\akilesh\\anaconda3\\lib\\site-packages (from matplotlib->seaborn) (2.2.0)\n",
      "Requirement already satisfied: python-dateutil>=2.1 in c:\\users\\akilesh\\anaconda3\\lib\\site-packages (from matplotlib->seaborn) (2.7.3)\n",
      "Requirement already satisfied: pytz in c:\\users\\akilesh\\anaconda3\\lib\\site-packages (from matplotlib->seaborn) (2018.4)\n",
      "Requirement already satisfied: six>=1.10 in c:\\users\\akilesh\\anaconda3\\lib\\site-packages (from matplotlib->seaborn) (1.11.0)\n",
      "Requirement already satisfied: kiwisolver>=1.0.1 in c:\\users\\akilesh\\anaconda3\\lib\\site-packages (from matplotlib->seaborn) (1.0.1)\n",
      "Requirement already satisfied: setuptools in c:\\users\\akilesh\\anaconda3\\lib\\site-packages (from kiwisolver>=1.0.1->matplotlib->seaborn) (39.1.0)\n"
     ]
    },
    {
     "name": "stderr",
     "output_type": "stream",
     "text": [
      "distributed 1.21.8 requires msgpack, which is not installed.\n"
     ]
    }
   ],
   "source": [
    "!pip install seaborn"
   ]
  },
  {
   "cell_type": "code",
   "execution_count": 2,
   "metadata": {},
   "outputs": [
    {
     "name": "stderr",
     "output_type": "stream",
     "text": [
      "UsageError: unrecognized arguments: # to see matplotlib inline in notebook\n"
     ]
    }
   ],
   "source": [
    "import numpy as np\n",
    "import pandas as pd \n",
    "import matplotlib.pyplot as plt \n",
    "import seaborn as sns # Anather library for visualization\n",
    "\n",
    "sns.set_style(\"ticks\") # to see seaborn inline in notebook\n",
    "%matplotlib inline # to see matplotlib inline in notebook\n",
    "plt.style.use(\"seaborn-poster\")  # make bigger plots"
   ]
  },
  {
   "cell_type": "code",
   "execution_count": 3,
   "metadata": {},
   "outputs": [
    {
     "data": {
      "text/html": [
       "<div>\n",
       "<style scoped>\n",
       "    .dataframe tbody tr th:only-of-type {\n",
       "        vertical-align: middle;\n",
       "    }\n",
       "\n",
       "    .dataframe tbody tr th {\n",
       "        vertical-align: top;\n",
       "    }\n",
       "\n",
       "    .dataframe thead th {\n",
       "        text-align: right;\n",
       "    }\n",
       "</style>\n",
       "<table border=\"1\" class=\"dataframe\">\n",
       "  <thead>\n",
       "    <tr style=\"text-align: right;\">\n",
       "      <th></th>\n",
       "      <th>AREA</th>\n",
       "      <th>PRICE</th>\n",
       "    </tr>\n",
       "  </thead>\n",
       "  <tbody>\n",
       "    <tr>\n",
       "      <th>0</th>\n",
       "      <td>1000</td>\n",
       "      <td>5618</td>\n",
       "    </tr>\n",
       "    <tr>\n",
       "      <th>1</th>\n",
       "      <td>1030</td>\n",
       "      <td>5201</td>\n",
       "    </tr>\n",
       "    <tr>\n",
       "      <th>2</th>\n",
       "      <td>1060</td>\n",
       "      <td>4779</td>\n",
       "    </tr>\n",
       "    <tr>\n",
       "      <th>3</th>\n",
       "      <td>1090</td>\n",
       "      <td>5425</td>\n",
       "    </tr>\n",
       "    <tr>\n",
       "      <th>4</th>\n",
       "      <td>1120</td>\n",
       "      <td>5657</td>\n",
       "    </tr>\n",
       "    <tr>\n",
       "      <th>5</th>\n",
       "      <td>1150</td>\n",
       "      <td>4945</td>\n",
       "    </tr>\n",
       "    <tr>\n",
       "      <th>6</th>\n",
       "      <td>1180</td>\n",
       "      <td>6475</td>\n",
       "    </tr>\n",
       "    <tr>\n",
       "      <th>7</th>\n",
       "      <td>1210</td>\n",
       "      <td>5352</td>\n",
       "    </tr>\n",
       "    <tr>\n",
       "      <th>8</th>\n",
       "      <td>1240</td>\n",
       "      <td>6290</td>\n",
       "    </tr>\n",
       "    <tr>\n",
       "      <th>9</th>\n",
       "      <td>1270</td>\n",
       "      <td>6147</td>\n",
       "    </tr>\n",
       "  </tbody>\n",
       "</table>\n",
       "</div>"
      ],
      "text/plain": [
       "   AREA  PRICE\n",
       "0  1000   5618\n",
       "1  1030   5201\n",
       "2  1060   4779\n",
       "3  1090   5425\n",
       "4  1120   5657\n",
       "5  1150   4945\n",
       "6  1180   6475\n",
       "7  1210   5352\n",
       "8  1240   6290\n",
       "9  1270   6147"
      ]
     },
     "execution_count": 3,
     "metadata": {},
     "output_type": "execute_result"
    }
   ],
   "source": [
    "df=pd.read_csv(\"housing_prices_SLR.csv\")\n",
    "df.head(10)"
   ]
  },
  {
   "cell_type": "code",
   "execution_count": 4,
   "metadata": {},
   "outputs": [
    {
     "data": {
      "text/plain": [
       "<matplotlib.collections.PathCollection at 0x98a3910>"
      ]
     },
     "execution_count": 4,
     "metadata": {},
     "output_type": "execute_result"
    },
    {
     "data": {
      "image/png": "[encoded data removed]",
      "text/plain": [
       "<Figure size 432x288 with 1 Axes>"
      ]
     },
     "metadata": {},
     "output_type": "display_data"
    }
   ],
   "source": [
    "plt.scatter(df.AREA,df.PRICE,s=20)"
   ]
  },
  {
   "cell_type": "code",
   "execution_count": 5,
   "metadata": {},
   "outputs": [
    {
     "data": {
      "text/plain": [
       "array([[1000],\n",
       "       [1030],\n",
       "       [1060],\n",
       "       [1090],\n",
       "       [1120],\n",
       "       [1150],\n",
       "       [1180],\n",
       "       [1210],\n",
       "       [1240],\n",
       "       [1270],\n",
       "       [1300],\n",
       "       [1330],\n",
       "       [1360],\n",
       "       [1390],\n",
       "       [1420],\n",
       "       [1450],\n",
       "       [1480],\n",
       "       [1510],\n",
       "       [1540],\n",
       "       [1570],\n",
       "       [1600],\n",
       "       [1630],\n",
       "       [1660],\n",
       "       [1690],\n",
       "       [1720],\n",
       "       [1750],\n",
       "       [1780],\n",
       "       [1810],\n",
       "       [1840],\n",
       "       [1870],\n",
       "       [1900],\n",
       "       [1930],\n",
       "       [1960],\n",
       "       [1990],\n",
       "       [2020],\n",
       "       [2050],\n",
       "       [2080],\n",
       "       [2110],\n",
       "       [2140],\n",
       "       [2170],\n",
       "       [2200],\n",
       "       [2230],\n",
       "       [2260],\n",
       "       [2290],\n",
       "       [2320],\n",
       "       [2350],\n",
       "       [2380],\n",
       "       [2410],\n",
       "       [2440],\n",
       "       [2470]], dtype=int64)"
      ]
     },
     "execution_count": 5,
     "metadata": {},
     "output_type": "execute_result"
    }
   ],
   "source": [
    "df[['AREA']].values"
   ]
  },
  {
   "cell_type": "code",
   "execution_count": 6,
   "metadata": {},
   "outputs": [
    {
     "name": "stdout",
     "output_type": "stream",
     "text": [
      "    AREA\n",
      "0   1000\n",
      "1   1030\n",
      "2   1060\n",
      "3   1090\n",
      "4   1120\n",
      "5   1150\n",
      "6   1180\n",
      "7   1210\n",
      "8   1240\n",
      "9   1270\n",
      "10  1300\n",
      "11  1330\n",
      "12  1360\n",
      "13  1390\n",
      "14  1420\n",
      "15  1450\n",
      "16  1480\n",
      "17  1510\n",
      "18  1540\n",
      "19  1570\n",
      "20  1600\n",
      "21  1630\n",
      "22  1660\n",
      "23  1690\n",
      "24  1720\n",
      "25  1750\n",
      "26  1780\n",
      "27  1810\n",
      "28  1840\n",
      "29  1870\n",
      "30  1900\n",
      "31  1930\n",
      "32  1960\n",
      "33  1990\n",
      "34  2020\n",
      "35  2050\n",
      "36  2080\n",
      "37  2110\n",
      "38  2140\n",
      "39  2170\n",
      "40  2200\n",
      "41  2230\n",
      "42  2260\n",
      "43  2290\n",
      "44  2320\n",
      "45  2350\n",
      "46  2380\n",
      "47  2410\n",
      "48  2440\n",
      "49  2470\n",
      "0      5618\n",
      "1      5201\n",
      "2      4779\n",
      "3      5425\n",
      "4      5657\n",
      "5      4945\n",
      "6      6475\n",
      "7      5352\n",
      "8      6290\n",
      "9      6147\n",
      "10     7718\n",
      "11     7035\n",
      "12     8712\n",
      "13     9457\n",
      "14     7304\n",
      "15     7535\n",
      "16     9968\n",
      "17     7614\n",
      "18     9762\n",
      "19    10067\n",
      "20     8074\n",
      "21    10201\n",
      "22    10051\n",
      "23     9775\n",
      "24    10229\n",
      "25     8314\n",
      "26     9288\n",
      "27    10503\n",
      "28     9763\n",
      "29    11527\n",
      "30     9912\n",
      "31    10204\n",
      "32     9085\n",
      "33    10240\n",
      "34    15220\n",
      "35    12278\n",
      "36    22270\n",
      "37    12574\n",
      "38    12618\n",
      "39    15457\n",
      "40    12793\n",
      "41    12641\n",
      "42    17207\n",
      "43    16969\n",
      "44    16293\n",
      "45    16845\n",
      "46    17604\n",
      "47    17310\n",
      "48    14036\n",
      "49    13699\n",
      "Name: PRICE, dtype: int64\n"
     ]
    }
   ],
   "source": [
    "x=df.iloc[:,:-1] # gives df of Area i.e. features always 2d\n",
    "print(x)\n",
    "y=df.iloc[:,-1]  # Gives df of price i.e. target always 1d \n",
    "print(y)"
   ]
  },
  {
   "cell_type": "code",
   "execution_count": 7,
   "metadata": {},
   "outputs": [
    {
     "data": {
      "text/plain": [
       "array([[1000],\n",
       "       [1030],\n",
       "       [1060],\n",
       "       [1090],\n",
       "       [1120],\n",
       "       [1150],\n",
       "       [1180],\n",
       "       [1210],\n",
       "       [1240],\n",
       "       [1270],\n",
       "       [1300],\n",
       "       [1330],\n",
       "       [1360],\n",
       "       [1390],\n",
       "       [1420],\n",
       "       [1450],\n",
       "       [1480],\n",
       "       [1510],\n",
       "       [1540],\n",
       "       [1570],\n",
       "       [1600],\n",
       "       [1630],\n",
       "       [1660],\n",
       "       [1690],\n",
       "       [1720],\n",
       "       [1750],\n",
       "       [1780],\n",
       "       [1810],\n",
       "       [1840],\n",
       "       [1870],\n",
       "       [1900],\n",
       "       [1930],\n",
       "       [1960],\n",
       "       [1990],\n",
       "       [2020],\n",
       "       [2050],\n",
       "       [2080],\n",
       "       [2110],\n",
       "       [2140],\n",
       "       [2170],\n",
       "       [2200],\n",
       "       [2230],\n",
       "       [2260],\n",
       "       [2290],\n",
       "       [2320],\n",
       "       [2350],\n",
       "       [2380],\n",
       "       [2410],\n",
       "       [2440],\n",
       "       [2470]], dtype=int64)"
      ]
     },
     "execution_count": 7,
     "metadata": {},
     "output_type": "execute_result"
    }
   ],
   "source": [
    "x=df.iloc[:,:-1].values\n",
    "x"
   ]
  },
  {
   "cell_type": "code",
   "execution_count": 8,
   "metadata": {},
   "outputs": [
    {
     "data": {
      "text/plain": [
       "array([ 5618,  5201,  4779,  5425,  5657,  4945,  6475,  5352,  6290,\n",
       "        6147,  7718,  7035,  8712,  9457,  7304,  7535,  9968,  7614,\n",
       "        9762, 10067,  8074, 10201, 10051,  9775, 10229,  8314,  9288,\n",
       "       10503,  9763, 11527,  9912, 10204,  9085, 10240, 15220, 12278,\n",
       "       22270, 12574, 12618, 15457, 12793, 12641, 17207, 16969, 16293,\n",
       "       16845, 17604, 17310, 14036, 13699], dtype=int64)"
      ]
     },
     "execution_count": 8,
     "metadata": {},
     "output_type": "execute_result"
    }
   ],
   "source": [
    "y=df.iloc[:,-1].values # gives numpy Array\n",
    "y"
   ]
  },
  {
   "cell_type": "code",
   "execution_count": 9,
   "metadata": {},
   "outputs": [
    {
     "name": "stdout",
     "output_type": "stream",
     "text": [
      "Requirement already satisfied: scikit-learn in c:\\users\\akilesh\\anaconda3\\lib\\site-packages (0.19.1)\n"
     ]
    },
    {
     "name": "stderr",
     "output_type": "stream",
     "text": [
      "distributed 1.21.8 requires msgpack, which is not installed.\n"
     ]
    }
   ],
   "source": [
    "!pip install scikit-learn"
   ]
  },
  {
   "cell_type": "markdown",
   "metadata": {},
   "source": [
    "Splitting dataset into two parts\n",
    "one for training the model\n",
    "another one for testing the model"
   ]
  },
  {
   "cell_type": "code",
   "execution_count": 10,
   "metadata": {},
   "outputs": [
    {
     "name": "stdout",
     "output_type": "stream",
     "text": [
      "Train of x:  (40, 1)\n",
      "Train of y: (40,)\n",
      "Test of x: (10, 1)\n",
      "test of y: (10,)\n"
     ]
    }
   ],
   "source": [
    "from sklearn.model_selection import train_test_split\n",
    "x_train,x_test,y_train,y_test=train_test_split(x,y,test_size=0.2,random_state=42)\n",
    "print(\"Train of x: \",x_train.shape) # x is always 2d so that (40,1)\n",
    "print(\"Train of y:\",y_train.shape) # y is always 1d so that (40,)\n",
    "print(\"Test of x:\",x_test.shape)\n",
    "print('test of y:',y_test.shape)"
   ]
  },
  {
   "cell_type": "code",
   "execution_count": 11,
   "metadata": {},
   "outputs": [
    {
     "data": {
      "text/plain": [
       "LinearRegression(copy_X=True, fit_intercept=False, n_jobs=1, normalize=False)"
      ]
     },
     "execution_count": 11,
     "metadata": {},
     "output_type": "execute_result"
    }
   ],
   "source": [
    "# Building model\n",
    "from sklearn.linear_model import LinearRegression\n",
    "regressor=LinearRegression(fit_intercept=False) \n",
    "# regressor = LinearRegression() #  fit_intercept=True when base is needed\n",
    "# regressor is instanse of class LinearRegression, inorder to make intercept 0, we have to give fit_intercept=False\n",
    "regressor.fit(x_train,y_train) # train the model"
   ]
  },
  {
   "cell_type": "code",
   "execution_count": 12,
   "metadata": {},
   "outputs": [
    {
     "data": {
      "text/plain": [
       "array([ 8678.55258197, 13548.53172869, 11862.76971636, 14672.37307024,\n",
       "        9427.78014301, 15234.29374102, 11113.54215533, 10926.23526507,\n",
       "       12237.38349688,  9802.39392352])"
      ]
     },
     "execution_count": 12,
     "metadata": {},
     "output_type": "execute_result"
    }
   ],
   "source": [
    "y_pred = regressor.predict(x_test)\n",
    "y_pred"
   ]
  },
  {
   "cell_type": "code",
   "execution_count": 13,
   "metadata": {},
   "outputs": [
    {
     "data": {
      "text/plain": [
       "array([ 9457, 15457,  9912, 16845,  7614, 14036,  9288,  8314,  9085,\n",
       "       10067], dtype=int64)"
      ]
     },
     "execution_count": 13,
     "metadata": {},
     "output_type": "execute_result"
    }
   ],
   "source": [
    "y_test"
   ]
  },
  {
   "cell_type": "code",
   "execution_count": 14,
   "metadata": {},
   "outputs": [
    {
     "data": {
      "text/plain": [
       "<matplotlib.collections.PathCollection at 0x9c50590>"
      ]
     },
     "execution_count": 14,
     "metadata": {},
     "output_type": "execute_result"
    },
    {
     "data": {
      "image/png": "[encoded data removed]",
      "text/plain": [
       "<Figure size 432x288 with 1 Axes>"
      ]
     },
     "metadata": {},
     "output_type": "display_data"
    }
   ],
   "source": [
    "plt.scatter(x_train,y_train,c='r') "
   ]
  },
  {
   "cell_type": "code",
   "execution_count": 15,
   "metadata": {},
   "outputs": [
    {
     "data": {
      "text/plain": [
       "[<matplotlib.lines.Line2D at 0x9c97470>]"
      ]
     },
     "execution_count": 15,
     "metadata": {},
     "output_type": "execute_result"
    },
    {
     "data": {
      "image/png": "[encoded data removed]",
      "text/plain": [
       "<Figure size 432x288 with 1 Axes>"
      ]
     },
     "metadata": {},
     "output_type": "display_data"
    }
   ],
   "source": [
    "plt.plot(x_train,regressor.predict(x_train))"
   ]
  },
  {
   "cell_type": "code",
   "execution_count": 16,
   "metadata": {},
   "outputs": [
    {
     "data": {
      "text/plain": [
       "[<matplotlib.lines.Line2D at 0x9ccfb10>]"
      ]
     },
     "execution_count": 16,
     "metadata": {},
     "output_type": "execute_result"
    },
    {
     "data": {
      "image/png": "[encoded data removed]",
      "text/plain": [
       "<Figure size 432x288 with 1 Axes>"
      ]
     },
     "metadata": {},
     "output_type": "display_data"
    }
   ],
   "source": [
    "plt.scatter(x_train,y_train,c='r')\n",
    "plt.plot(x_train,regressor.predict(x_train))"
   ]
  },
  {
   "cell_type": "code",
   "execution_count": 17,
   "metadata": {},
   "outputs": [
    {
     "data": {
      "text/plain": [
       "[<matplotlib.lines.Line2D at 0x9d139f0>]"
      ]
     },
     "execution_count": 17,
     "metadata": {},
     "output_type": "execute_result"
    },
    {
     "data": {
      "image/png": "[encoded data removed]",
      "text/plain": [
       "<Figure size 432x288 with 1 Axes>"
      ]
     },
     "metadata": {},
     "output_type": "display_data"
    }
   ],
   "source": [
    "plt.scatter(x_test,y_test,c='r')\n",
    "plt.plot(x_train,regressor.predict(x_train))"
   ]
  },
  {
   "cell_type": "code",
   "execution_count": 18,
   "metadata": {},
   "outputs": [],
   "source": [
    "def sse(actual,predicted):\n",
    "    err=actual-predicted\n",
    "    err=err**2\n",
    "    return np.sum(err) # or summing all elements in err array\n",
    "def sse2(act,pre):\n",
    "    return ((act-pre)**2).sum()"
   ]
  },
  {
   "cell_type": "code",
   "execution_count": 19,
   "metadata": {},
   "outputs": [
    {
     "name": "stdout",
     "output_type": "stream",
     "text": [
      "37663663.41244945 180778495.26161304\n"
     ]
    }
   ],
   "source": [
    "sse_test=sse(y_test,y_pred)\n",
    "y_train_pred=regressor.predict(x_train) # predicting y for x_train dataset\n",
    "sse_train=sse(y_train,y_train_pred)\n",
    "print(sse_test,sse_train)"
   ]
  },
  {
   "cell_type": "code",
   "execution_count": 26,
   "metadata": {},
   "outputs": [
    {
     "name": "stdout",
     "output_type": "stream",
     "text": [
      "0.7434128354714671\n",
      "0.74\n",
      "0.59\n",
      "[12487.12601723] <class 'list'>\n",
      "0.7434128354714671\n",
      "0.5948333560868739\n"
     ]
    }
   ],
   "source": [
    "#Metrics is used to valuate the model , like r square,sse,mse,rmse\n",
    "from sklearn.metrics import r2_score\n",
    "model_score_train= r2_score(y_train, y_train_pred)\n",
    "model_score_test= r2_score(y_test, y_pred)\n",
    "print(model_score_train)\n",
    "print(model_score_train.round(2))\n",
    "print(model_score_test.round(2))\n",
    "# Finding the price of a house having 2000 sq.ft\n",
    "inp=[[2000]] # once again \n",
    "out=regressor.predict(inp)\n",
    "print(out,type(inp))\n",
    "print(regressor.score(x_train,y_train))\n",
    "print(regressor.score(x_test,y_test))"
   ]
  },
  {
   "cell_type": "code",
   "execution_count": 21,
   "metadata": {},
   "outputs": [
    {
     "name": "stdout",
     "output_type": "stream",
     "text": [
      "[ 6243.56300861  6867.91930947  7492.27561034  8116.6319112\n",
      "  8740.98821206  9365.34451292  9989.70081378 10614.05711464\n",
      " 11238.4134155  11862.76971636]\n"
     ]
    }
   ],
   "source": [
    "arr=np.arange(1000,2000,100) # arr is 1D (array)\n",
    "arr.shape \n",
    "arr=arr.reshape(10,1) # arr is 2D (array)\n",
    "out2=regressor.predict(arr)\n",
    "print(out2)"
   ]
  },
  {
   "cell_type": "code",
   "execution_count": 22,
   "metadata": {},
   "outputs": [
    {
     "data": {
      "text/plain": [
       "array([6.24356301])"
      ]
     },
     "execution_count": 22,
     "metadata": {},
     "output_type": "execute_result"
    }
   ],
   "source": [
    "regressor.coef_ # slope"
   ]
  },
  {
   "cell_type": "code",
   "execution_count": 23,
   "metadata": {},
   "outputs": [
    {
     "data": {
      "text/plain": [
       "0.0"
      ]
     },
     "execution_count": 23,
     "metadata": {},
     "output_type": "execute_result"
    }
   ],
   "source": [
    "regressor.intercept_ # intercept"
   ]
  },
  {
   "cell_type": "markdown",
   "metadata": {},
   "source": [
    "y=slope * x + intercept,   \n",
    "y=8.40672781 * Area -3927.575500006107\n",
    "in this case intercept should be 0 but it is -3927.5755\n",
    "see where the model is created"
   ]
  },
  {
   "cell_type": "code",
   "execution_count": 24,
   "metadata": {},
   "outputs": [
    {
     "data": {
      "text/plain": [
       "array([12487.12601723])"
      ]
     },
     "execution_count": 24,
     "metadata": {},
     "output_type": "execute_result"
    }
   ],
   "source": [
    "regressor.predict(inp)"
   ]
  },
  {
   "cell_type": "code",
   "execution_count": 25,
   "metadata": {},
   "outputs": [
    {
     "data": {
      "text/plain": [
       "0.0"
      ]
     },
     "execution_count": 25,
     "metadata": {},
     "output_type": "execute_result"
    }
   ],
   "source": [
    "regressor.intercept_"
   ]
  },
  {
   "cell_type": "code",
   "execution_count": null,
   "metadata": {},
   "outputs": [],
   "source": []
  },
  {
   "cell_type": "code",
   "execution_count": null,
   "metadata": {},
   "outputs": [],
   "source": []
  }
 ],
 "metadata": {
  "kernelspec": {
   "display_name": "Python 3",
   "language": "python",
   "name": "python3"
  },
  "language_info": {
   "codemirror_mode": {
    "name": "ipython",
    "version": 3
   },
   "file_extension": ".py",
   "mimetype": "text/x-python",
   "name": "python",
   "nbconvert_exporter": "python",
   "pygments_lexer": "ipython3",
   "version": "3.6.5"
  }
 },
 "nbformat": 4,
 "nbformat_minor": 2
}
